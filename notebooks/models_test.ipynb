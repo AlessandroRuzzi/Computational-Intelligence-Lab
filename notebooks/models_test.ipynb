{
 "cells": [
  {
   "cell_type": "code",
   "execution_count": 38,
   "metadata": {},
   "outputs": [
    {
     "name": "stdout",
     "output_type": "stream",
     "text": [
      "The autoreload extension is already loaded. To reload it, use:\n",
      "  %reload_ext autoreload\n"
     ]
    }
   ],
   "source": [
    "%load_ext autoreload\n",
    "%autoreload 2\n",
    "import torch\n",
    "torch.set_printoptions(sci_mode=False)\n",
    "import sys  \n",
    "sys.path.insert(0, '../')"
   ]
  },
  {
   "cell_type": "code",
   "execution_count": 13,
   "metadata": {},
   "outputs": [],
   "source": [
    "def count_parameters(model):\n",
    "    return sum(p.numel() for p in model.parameters() if p.requires_grad)"
   ]
  },
  {
   "cell_type": "code",
   "execution_count": 48,
   "metadata": {
    "scrolled": true
   },
   "outputs": [
    {
     "name": "stdout",
     "output_type": "stream",
     "text": [
      "Parameters: 4007548, Channels: [3, 32, 24, 40, 112, 320]\n",
      "torch.Size([8, 3, 224, 224])\n",
      "torch.Size([8, 32, 112, 112])\n",
      "torch.Size([8, 24, 56, 56])\n",
      "torch.Size([8, 40, 28, 28])\n",
      "torch.Size([8, 112, 14, 14])\n",
      "torch.Size([8, 320, 7, 7])\n",
      "Parameters: 4007548, Channels: [3, 32, 24, 40, 112, 320]\n",
      "torch.Size([8, 3, 224, 224])\n",
      "torch.Size([8, 32, 112, 112])\n",
      "torch.Size([8, 24, 56, 56])\n",
      "torch.Size([8, 40, 28, 28])\n",
      "torch.Size([8, 112, 14, 14])\n",
      "torch.Size([8, 320, 14, 14])\n"
     ]
    }
   ],
   "source": [
    "from src.models.architectures.encoders.efficientnet import EfficientNetEncoder\n",
    "encoder = EfficientNetEncoder(name='efficientnet-b0')\n",
    "output = encoder(torch.rand((8, 3, 224, 224)))\n",
    "print(f\"Parameters: {count_parameters(encoder)}, Channels: {encoder.out_channels}\")\n",
    "for v in output:\n",
    "    print(v.shape)\n",
    "    \n",
    "encoder.make_last_dilated()\n",
    "output = encoder(torch.rand((8, 3, 224, 224)))\n",
    "print(f\"Parameters: {count_parameters(encoder)}, Channels: {encoder.out_channels}\")\n",
    "for v in output:\n",
    "    print(v.shape)"
   ]
  },
  {
   "cell_type": "code",
   "execution_count": 20,
   "metadata": {},
   "outputs": [
    {
     "name": "stdout",
     "output_type": "stream",
     "text": [
      "torch.Size([8, 1, 400, 400])\n",
      "41970985\n"
     ]
    }
   ],
   "source": [
    "from src.models.architectures.efflab import EffLab\n",
    "model = EffLab(encoder_name='efficientnet-b6')\n",
    "print(model(torch.rand((8, 3, 400, 400))).shape)\n",
    "print(count_parameters(model))"
   ]
  },
  {
   "cell_type": "code",
   "execution_count": 46,
   "metadata": {},
   "outputs": [
    {
     "name": "stdout",
     "output_type": "stream",
     "text": [
      "torch.Size([8, 1, 416, 416])\n",
      "95755409\n"
     ]
    }
   ],
   "source": [
    "from src.models.architectures.unet import UNet\n",
    "\n",
    "model = UNet(encoder_name='resnext101_32x8d')\n",
    "print(model(torch.rand((8, 3, 416, 416))).shape)\n",
    "print(count_parameters(model))"
   ]
  },
  {
   "cell_type": "code",
   "execution_count": 173,
   "metadata": {},
   "outputs": [
    {
     "name": "stdout",
     "output_type": "stream",
     "text": [
      "tensor(0.)\n"
     ]
    }
   ],
   "source": [
    "print(torch.tensor(False).float())"
   ]
  },
  {
   "cell_type": "code",
   "execution_count": null,
   "metadata": {},
   "outputs": [],
   "source": []
  }
 ],
 "metadata": {
  "kernelspec": {
   "display_name": "Python 3",
   "language": "python",
   "name": "python3"
  },
  "language_info": {
   "codemirror_mode": {
    "name": "ipython",
    "version": 3
   },
   "file_extension": ".py",
   "mimetype": "text/x-python",
   "name": "python",
   "nbconvert_exporter": "python",
   "pygments_lexer": "ipython3",
   "version": "3.9.5"
  }
 },
 "nbformat": 4,
 "nbformat_minor": 2
}
